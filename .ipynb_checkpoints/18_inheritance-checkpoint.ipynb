{
 "cells": [
  {
   "cell_type": "markdown",
   "metadata": {},
   "source": [
    "# Chapter 18: Inheritance"
   ]
  },
  {
   "cell_type": "markdown",
   "metadata": {},
   "source": [
    "This is Chapter 18: Inheritance. Topics discussed include:\n",
    "* Encode: \"encode” means that we are going to define a mapping between numbers and attributes\n",
    "* Class attributes variables defined within a class but outside of a method are associated with the class object\n",
    "* Instance attributes are associated with a particular instance\n",
    "* Inheritance is the ability to define a new class that is a modified version of an existing class. \n",
    "* To define a new class that inherits from an existing class, you put the name of the existing class in parentheses.\n",
    "* class diagram\n",
    "* Data encapsulation"
   ]
  },
  {
   "cell_type": "code",
   "execution_count": 1,
   "metadata": {},
   "outputs": [],
   "source": [
    "from card import Card, Deck, Hand"
   ]
  },
  {
   "cell_type": "code",
   "execution_count": 2,
   "metadata": {},
   "outputs": [],
   "source": [
    "my_card = Card()"
   ]
  },
  {
   "cell_type": "code",
   "execution_count": 3,
   "metadata": {},
   "outputs": [
    {
     "data": {
      "text/plain": [
       "{'rank': 2, 'suit': 0}"
      ]
     },
     "execution_count": 3,
     "metadata": {},
     "output_type": "execute_result"
    }
   ],
   "source": [
    "vars(my_card)"
   ]
  },
  {
   "cell_type": "code",
   "execution_count": 4,
   "metadata": {},
   "outputs": [
    {
     "name": "stdout",
     "output_type": "stream",
     "text": [
      "Spades of Jack\n"
     ]
    }
   ],
   "source": [
    "my_card2 = Card(3, 11)\n",
    "print(my_card2)"
   ]
  },
  {
   "cell_type": "code",
   "execution_count": 5,
   "metadata": {},
   "outputs": [
    {
     "data": {
      "text/plain": [
       "'Spades'"
      ]
     },
     "execution_count": 5,
     "metadata": {},
     "output_type": "execute_result"
    }
   ],
   "source": [
    "Card.suit_names[3]"
   ]
  },
  {
   "cell_type": "code",
   "execution_count": 6,
   "metadata": {},
   "outputs": [
    {
     "data": {
      "text/plain": [
       "'Jack'"
      ]
     },
     "execution_count": 6,
     "metadata": {},
     "output_type": "execute_result"
    }
   ],
   "source": [
    "Card.rank_names[11]"
   ]
  },
  {
   "cell_type": "code",
   "execution_count": 7,
   "metadata": {},
   "outputs": [
    {
     "data": {
      "text/plain": [
       "11"
      ]
     },
     "execution_count": 7,
     "metadata": {},
     "output_type": "execute_result"
    }
   ],
   "source": [
    "my_card2.rank"
   ]
  },
  {
   "cell_type": "code",
   "execution_count": 8,
   "metadata": {},
   "outputs": [
    {
     "data": {
      "text/plain": [
       "3"
      ]
     },
     "execution_count": 8,
     "metadata": {},
     "output_type": "execute_result"
    }
   ],
   "source": [
    "my_card2.suit"
   ]
  },
  {
   "cell_type": "code",
   "execution_count": 9,
   "metadata": {},
   "outputs": [],
   "source": [
    "t1 = my_card.rank, my_card.suit"
   ]
  },
  {
   "cell_type": "code",
   "execution_count": 10,
   "metadata": {
    "scrolled": true
   },
   "outputs": [
    {
     "data": {
      "text/plain": [
       "(2, 0)"
      ]
     },
     "execution_count": 10,
     "metadata": {},
     "output_type": "execute_result"
    }
   ],
   "source": [
    "t1"
   ]
  },
  {
   "cell_type": "code",
   "execution_count": 11,
   "metadata": {
    "scrolled": false
   },
   "outputs": [
    {
     "data": {
      "text/plain": [
       "False"
      ]
     },
     "execution_count": 11,
     "metadata": {},
     "output_type": "execute_result"
    }
   ],
   "source": [
    "my_card > my_card2"
   ]
  },
  {
   "cell_type": "code",
   "execution_count": 12,
   "metadata": {},
   "outputs": [
    {
     "name": "stdout",
     "output_type": "stream",
     "text": [
      "Clubs of Ace\n",
      "Clubs of 2\n",
      "Clubs of 3\n",
      "Clubs of 4\n",
      "Clubs of 5\n",
      "Clubs of 6\n",
      "Clubs of 7\n",
      "Clubs of 8\n",
      "Clubs of 9\n",
      "Clubs of 10\n",
      "Clubs of Jack\n",
      "Clubs of Queen\n",
      "Clubs of King\n",
      "Diamonds of Ace\n",
      "Diamonds of 2\n",
      "Diamonds of 3\n",
      "Diamonds of 4\n",
      "Diamonds of 5\n",
      "Diamonds of 6\n",
      "Diamonds of 7\n",
      "Diamonds of 8\n",
      "Diamonds of 9\n",
      "Diamonds of 10\n",
      "Diamonds of Jack\n",
      "Diamonds of Queen\n",
      "Diamonds of King\n",
      "Hearts of Ace\n",
      "Hearts of 2\n",
      "Hearts of 3\n",
      "Hearts of 4\n",
      "Hearts of 5\n",
      "Hearts of 6\n",
      "Hearts of 7\n",
      "Hearts of 8\n",
      "Hearts of 9\n",
      "Hearts of 10\n",
      "Hearts of Jack\n",
      "Hearts of Queen\n",
      "Hearts of King\n",
      "Spades of Ace\n",
      "Spades of 2\n",
      "Spades of 3\n",
      "Spades of 4\n",
      "Spades of 5\n",
      "Spades of 6\n",
      "Spades of 7\n",
      "Spades of 8\n",
      "Spades of 9\n",
      "Spades of 10\n",
      "Spades of Jack\n",
      "Spades of Queen\n",
      "Spades of King\n"
     ]
    }
   ],
   "source": [
    "my_deck = Deck()\n",
    "print(my_deck)"
   ]
  },
  {
   "cell_type": "code",
   "execution_count": 13,
   "metadata": {},
   "outputs": [
    {
     "name": "stdout",
     "output_type": "stream",
     "text": [
      "Spades of King\n"
     ]
    }
   ],
   "source": [
    "print(my_deck.remove_card())"
   ]
  },
  {
   "cell_type": "code",
   "execution_count": 14,
   "metadata": {},
   "outputs": [
    {
     "name": "stdout",
     "output_type": "stream",
     "text": [
      "Clubs of Ace\n",
      "Clubs of 2\n",
      "Clubs of 3\n",
      "Clubs of 4\n",
      "Clubs of 5\n",
      "Clubs of 6\n",
      "Clubs of 7\n",
      "Clubs of 8\n",
      "Clubs of 9\n",
      "Clubs of 10\n",
      "Clubs of Jack\n",
      "Clubs of Queen\n",
      "Clubs of King\n",
      "Diamonds of Ace\n",
      "Diamonds of 2\n",
      "Diamonds of 3\n",
      "Diamonds of 4\n",
      "Diamonds of 5\n",
      "Diamonds of 6\n",
      "Diamonds of 7\n",
      "Diamonds of 8\n",
      "Diamonds of 9\n",
      "Diamonds of 10\n",
      "Diamonds of Jack\n",
      "Diamonds of Queen\n",
      "Diamonds of King\n",
      "Hearts of Ace\n",
      "Hearts of 2\n",
      "Hearts of 3\n",
      "Hearts of 4\n",
      "Hearts of 5\n",
      "Hearts of 6\n",
      "Hearts of 7\n",
      "Hearts of 8\n",
      "Hearts of 9\n",
      "Hearts of 10\n",
      "Hearts of Jack\n",
      "Hearts of Queen\n",
      "Hearts of King\n",
      "Spades of Ace\n",
      "Spades of 2\n",
      "Spades of 3\n",
      "Spades of 4\n",
      "Spades of 5\n",
      "Spades of 6\n",
      "Spades of 7\n",
      "Spades of 8\n",
      "Spades of 9\n",
      "Spades of 10\n",
      "Spades of Jack\n",
      "Spades of Queen\n",
      "Clubs of 2\n"
     ]
    }
   ],
   "source": [
    "my_deck.add_card(my_card)\n",
    "print(my_deck)"
   ]
  },
  {
   "cell_type": "code",
   "execution_count": 15,
   "metadata": {},
   "outputs": [
    {
     "name": "stdout",
     "output_type": "stream",
     "text": [
      "\n"
     ]
    }
   ],
   "source": [
    "my_hand = Hand(label = \"my_label\")\n",
    "print(my_hand)"
   ]
  },
  {
   "cell_type": "code",
   "execution_count": 16,
   "metadata": {},
   "outputs": [
    {
     "data": {
      "text/plain": [
       "{'cards': [], 'label': 'my_label'}"
      ]
     },
     "execution_count": 16,
     "metadata": {},
     "output_type": "execute_result"
    }
   ],
   "source": [
    "vars(my_hand)"
   ]
  },
  {
   "cell_type": "code",
   "execution_count": 17,
   "metadata": {},
   "outputs": [],
   "source": [
    "my_hand.add_card(my_card2)"
   ]
  },
  {
   "cell_type": "code",
   "execution_count": 18,
   "metadata": {},
   "outputs": [
    {
     "name": "stdout",
     "output_type": "stream",
     "text": [
      "Spades of Jack\n"
     ]
    }
   ],
   "source": [
    "print(my_hand)"
   ]
  }
 ],
 "metadata": {
  "kernelspec": {
   "display_name": "Python 3",
   "language": "python",
   "name": "python3"
  },
  "language_info": {
   "codemirror_mode": {
    "name": "ipython",
    "version": 3
   },
   "file_extension": ".py",
   "mimetype": "text/x-python",
   "name": "python",
   "nbconvert_exporter": "python",
   "pygments_lexer": "ipython3",
   "version": "3.6.3"
  }
 },
 "nbformat": 4,
 "nbformat_minor": 2
}
